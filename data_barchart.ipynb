{
 "cells": [
  {
   "cell_type": "code",
   "execution_count": 3,
   "metadata": {},
   "outputs": [
    {
     "ename": "ModuleNotFoundError",
     "evalue": "No module named 'requests'",
     "output_type": "error",
     "traceback": [
      "\u001b[1;31m---------------------------------------------------------------------------\u001b[0m",
      "\u001b[1;31mModuleNotFoundError\u001b[0m                       Traceback (most recent call last)",
      "\u001b[1;32m<ipython-input-3-0a3657e94d9c>\u001b[0m in \u001b[0;36m<module>\u001b[1;34m\u001b[0m\n\u001b[1;32m----> 1\u001b[1;33m \u001b[1;32mimport\u001b[0m \u001b[0mrequests\u001b[0m\u001b[1;33m\u001b[0m\u001b[1;33m\u001b[0m\u001b[0m\n\u001b[0m\u001b[0;32m      2\u001b[0m \u001b[1;32mimport\u001b[0m \u001b[0mjson\u001b[0m\u001b[1;33m\u001b[0m\u001b[1;33m\u001b[0m\u001b[0m\n\u001b[0;32m      3\u001b[0m \u001b[1;32mimport\u001b[0m \u001b[0mpandas\u001b[0m \u001b[1;32mas\u001b[0m \u001b[0mpd\u001b[0m\u001b[1;33m\u001b[0m\u001b[1;33m\u001b[0m\u001b[0m\n\u001b[0;32m      4\u001b[0m \u001b[1;32mimport\u001b[0m \u001b[0mcsv\u001b[0m\u001b[1;33m\u001b[0m\u001b[1;33m\u001b[0m\u001b[0m\n\u001b[0;32m      5\u001b[0m \u001b[1;32mimport\u001b[0m \u001b[0mos\u001b[0m\u001b[1;33m.\u001b[0m\u001b[0mpath\u001b[0m\u001b[1;33m\u001b[0m\u001b[1;33m\u001b[0m\u001b[0m\n",
      "\u001b[1;31mModuleNotFoundError\u001b[0m: No module named 'requests'"
     ]
    }
   ],
   "source": [
    "import requests\n",
    "import json\n",
    "import pandas as pd\n",
    "import csv\n",
    "import os.path\n",
    "import seaborn as sb\n",
    "import time\n",
    "\n",
    "def get_data_barchart():\n",
    "    \n",
    "    l = []\n",
    "\n",
    "    url = \"https://www.barchart.com/proxies/core-api/v1/options/get?symbol=ABT&fields=strikePrice%2ClastPrice%2CpercentFromLast%2CbidPrice%2Cmidpoint%2CaskPrice%2CpriceChange%2CpercentChange%2Cvolatility%2Cvolume%2CopenInterest%2CoptionType%2CdaysToExpiration%2CexpirationDate%2CtradeTime%2CsymbolCode%2CsymbolType&groupBy=optionType&expirationDate=nearest&meta=field.shortName%2Cexpirations%2Cfield.description&raw=1\"\n",
    "\n",
    "    payload = {}\n",
    "    headers = {\n",
    "      'authority': 'www.barchart.com',\n",
    "      'accept': 'application/json',\n",
    "      'sec-fetch-dest': 'empty',\n",
    "      'x-xsrf-token': 'eyJpdiI6IkJFOFdzdFRZc2dmM1JtQVRcL1wvejV0Zz09IiwidmFsdWUiOiJjb1ZFMXNSTlwvU0ZpdWkzSlJzTGRQdnhqRjNDRzM5QlIwU1R1Yno3KzhjeTUzamNOTEx6TTVKXC9Na2pQOEJjczgiLCJtYWMiOiIyNjEyNzc2OTlhNTBmY2Y2MjhhNjNlNzI1YjkzMjE1YjI2ZTJhNzM0NDgzNTJmMGNiODc0MDUyNmI4NTRlNTliIn0=',\n",
    "      'user-agent': 'Mozilla/5.0 (Windows NT 10.0; Win64; x64) AppleWebKit/537.36 (KHTML, like Gecko) Chrome/80.0.3987.122 Safari/537.36',\n",
    "      'sec-fetch-site': 'same-origin',\n",
    "      'sec-fetch-mode': 'cors',\n",
    "      'referer': 'https://www.barchart.com/stocks/quotes/ABT/options',\n",
    "      'accept-language': 'es-ES,es;q=0.9',\n",
    "      'cookie': '_gcl_au=1.1.1787344868.1583041852; _ga=GA1.2.1991709918.1583041852; _gid=GA1.2.190165632.1583041852; kppid_managed=NQZgClZ4; __qca=P0-1258427446-1583041909777; fitracking_2=yes; fiTrackingDomainParams=%7B%22host%22%3A%22tracking1.firstimpression.io%22%2C%22type%22%3A%22full%22%7D; fi_utm=direct%7Cdirect%7C%7C%7C%7C; _pk_ses.6495.73a4=*; market=eyJpdiI6ImFydU95cm9tRTZ0dktQMTUwS1ZsbGc9PSIsInZhbHVlIjoiRzdCTVFZZFpwUHIwRGZRRDljTWsyUT09IiwibWFjIjoiMDRjNTlmNmUxYzE5YzdlOGRhYjIwYzFkMGRhNmIyMzllZjA4Nzc4ZjU0MTM3ZGM3ZTI0MjliMzZmOWMwM2I0NSJ9; __gads=ID=66b238a2004c784b:T=1583042342:S=ALNI_MYbGFh__uyVPtEvnrAJUsiZzTU6eg; _awl=2.1583042589.0.4-56aacb99-fd46bb27a73be53df9c9e2a091c4880b-6763652d75732d6561737431-5e5b501d-0; XSRF-TOKEN=eyJpdiI6IkJFOFdzdFRZc2dmM1JtQVRcL1wvejV0Zz09IiwidmFsdWUiOiJjb1ZFMXNSTlwvU0ZpdWkzSlJzTGRQdnhqRjNDRzM5QlIwU1R1Yno3KzhjeTUzamNOTEx6TTVKXC9Na2pQOEJjczgiLCJtYWMiOiIyNjEyNzc2OTlhNTBmY2Y2MjhhNjNlNzI1YjkzMjE1YjI2ZTJhNzM0NDgzNTJmMGNiODc0MDUyNmI4NTRlNTliIn0%3D; laravel_session=eyJpdiI6ImUzeVQzb3FrUFJTTzRKNlNvYUVCTVE9PSIsInZhbHVlIjoiYWVkSDBscVRNMHFxQUVGcW5mbWZGSjA2OVMxeGJncGszRzFMXC9rMDlVQU9vM0E4cTJhcFpqc0lCRktVK0p4WUYiLCJtYWMiOiI0MDQ2MmZiMzQwM2E5NmMxOWI3ZWZhZWNkZmU4MTg3M2ExYTEzMmEzMTMzNDkxN2Y1MGM1YjBkZjdmYTViYjU0In0%3D; _pk_id.6495.73a4=40d154cea06bdafb.1583041911.1.1583042688.1583041911.; _gat_UA-2009749-51=1; IC_ViewCounter_www.barchart.com=6'\n",
    "    }\n",
    "\n",
    "    response = requests.request(\"GET\", url, headers=headers, data = payload)\n",
    "\n",
    "    print(response.text.encode('utf8'))\n",
    "    \n",
    "    for k,v in json.loads(response.text).items():\n",
    "        if k == 'data':\n",
    "            print(type(v))\n",
    "            for a,c in v.items():\n",
    "                print(a)\n",
    "                for x in c:\n",
    "                    print(type(x))\n",
    "                    print(x)\n",
    "                    del x['raw']\n",
    "                    l.append(x)\n",
    "                df = pd.DataFrame(l)\n",
    "                df.to_csv('barchart_data_stocks_quotes.csv', index=False, header=False, mode='a')\n",
    "                time.sleep(1)\n",
    "    \n",
    "                \n",
    "        \n",
    "        \n",
    "#         for x in json_data:\n",
    "#             print(type(x))\n",
    "#             del x['link']\n",
    "#             del x['requestAQuoteLink']\n",
    "#             del x['makeAnEnquiryLink']\n",
    "#             del x['thumbLink']\n",
    "#             del x['recommendationTrackLink']\n",
    "#             l.append(x)\n",
    "#     print(l)\n",
    "#     df = pd.DataFrame(l)\n",
    "#     df.to_csv('nombre8.csv', index=False, header=False, mode='a')\n",
    "                    \n",
    "#get_data_barchart()"
   ]
  },
  {
   "cell_type": "code",
   "execution_count": 6,
   "metadata": {},
   "outputs": [
    {
     "ename": "ModuleNotFoundError",
     "evalue": "No module named 'pandas'",
     "output_type": "error",
     "traceback": [
      "\u001b[1;31m---------------------------------------------------------------------------\u001b[0m",
      "\u001b[1;31mModuleNotFoundError\u001b[0m                       Traceback (most recent call last)",
      "\u001b[1;32m<ipython-input-6-27f3cc9435f4>\u001b[0m in \u001b[0;36m<module>\u001b[1;34m\u001b[0m\n\u001b[1;32m----> 1\u001b[1;33m \u001b[1;32mimport\u001b[0m \u001b[0mpandas\u001b[0m \u001b[1;32mas\u001b[0m \u001b[0mpd\u001b[0m\u001b[1;33m\u001b[0m\u001b[1;33m\u001b[0m\u001b[0m\n\u001b[0m\u001b[0;32m      2\u001b[0m \u001b[0mdp\u001b[0m \u001b[1;33m=\u001b[0m \u001b[0mpd\u001b[0m\u001b[1;33m.\u001b[0m\u001b[0mread_csv\u001b[0m\u001b[1;33m(\u001b[0m\u001b[1;34m'barchart_data_stocks_quotes.csv'\u001b[0m\u001b[1;33m)\u001b[0m\u001b[1;33m\u001b[0m\u001b[1;33m\u001b[0m\u001b[0m\n\u001b[0;32m      3\u001b[0m \u001b[0mprint\u001b[0m\u001b[1;33m(\u001b[0m\u001b[0mdp\u001b[0m\u001b[1;33m)\u001b[0m\u001b[1;33m\u001b[0m\u001b[1;33m\u001b[0m\u001b[0m\n\u001b[0;32m      4\u001b[0m \u001b[0mFrame\u001b[0m\u001b[1;33m=\u001b[0m\u001b[0mdp\u001b[0m\u001b[1;33m.\u001b[0m\u001b[0mDataFrame\u001b[0m\u001b[1;33m(\u001b[0m\u001b[1;33m[\u001b[0m\u001b[0mCov\u001b[0m\u001b[1;33m]\u001b[0m\u001b[1;33m,\u001b[0m \u001b[0mcolumns\u001b[0m \u001b[1;33m=\u001b[0m \u001b[1;33m[\u001b[0m\u001b[1;34m\"Sequence\"\u001b[0m\u001b[1;33m,\u001b[0m \u001b[1;34m\"Start\"\u001b[0m\u001b[1;33m,\u001b[0m \u001b[1;34m\"End\"\u001b[0m\u001b[1;33m,\u001b[0m \u001b[1;34m\"Coverage\"\u001b[0m\u001b[1;33m]\u001b[0m\u001b[1;33m)\u001b[0m\u001b[1;33m\u001b[0m\u001b[1;33m\u001b[0m\u001b[0m\n",
      "\u001b[1;31mModuleNotFoundError\u001b[0m: No module named 'pandas'"
     ]
    }
   ],
   "source": [
    "# dp = pd.read_csv('barchart_data_stocks_quotes.csv')\n",
    "# dp.columns = [\"strikePrice\"\n",
    "#             ,\"lastPrice\"\n",
    "#             ,\"percentFromLast\"\n",
    "#             ,\"bidPrice\"\n",
    "#             ,\"midpoint\"\n",
    "#             ,\"askPrice\"\n",
    "#             ,\"priceChange\"\n",
    "#             ,\"percentChange\"\n",
    "#             ,\"volatility\"\n",
    "#             ,\"volume\"\n",
    "#             ,\"openInterest\"\n",
    "#             ,\"optionType\"\n",
    "#             ,\"daysToExpiration\"\n",
    "#             ,\"expirationDate\"\n",
    "#             ,\"tradeTime\"\n",
    "#             ,\"symbolType\"]\n",
    "# dp.to_csv('barchart_data_stocks_quotes2.csv', index=False, header=False, mode='a')\n",
    "# my_CSV_File= pd.read_csv(\"barchart_data_stocks_quotes2.csv\")\n",
    "# print(my_CSV_File)\n",
    "\n",
    "Cov = pd.read_csv(\"barchart_data_stocks_quotes.csv\")\n",
    "Frame=pd.DataFrame(Cov.values, columns = [\"strikePrice\"\n",
    "            ,\"lastPrice\"\n",
    "            ,\"percentFromLast\"\n",
    "            ,\"bidPrice\"\n",
    "            ,\"midpoint\"\n",
    "            ,\"askPrice\"\n",
    "            ,\"priceChange\"\n",
    "            ,\"percentChange\"\n",
    "            ,\"volatility\"\n",
    "            ,\"volume\"\n",
    "            ,\"openInterest\"\n",
    "            ,\"optionType\"\n",
    "            ,\"daysToExpiration\"\n",
    "            ,\"expirationDate\"\n",
    "            ,\"tradeTime\"\n",
    "            ,\"symbolType\"])\n",
    "Frame.to_csv(\"barchart_data_stocks_quotes3.csv\", sep='\\t')"
   ]
  },
  {
   "cell_type": "code",
   "execution_count": null,
   "metadata": {},
   "outputs": [],
   "source": []
  }
 ],
 "metadata": {
  "kernelspec": {
   "display_name": "Python 3",
   "language": "python",
   "name": "python3"
  },
  "language_info": {
   "codemirror_mode": {
    "name": "ipython",
    "version": 3
   },
   "file_extension": ".py",
   "mimetype": "text/x-python",
   "name": "python",
   "nbconvert_exporter": "python",
   "pygments_lexer": "ipython3",
   "version": "3.7.6"
  }
 },
 "nbformat": 4,
 "nbformat_minor": 2
}
