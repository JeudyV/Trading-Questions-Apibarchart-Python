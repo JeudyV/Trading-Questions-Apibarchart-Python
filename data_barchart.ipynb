{
 "cells": [
  {
   "cell_type": "code",
   "execution_count": null,
   "metadata": {},
   "outputs": [],
   "source": [
    "import requests\n",
    "import json\n",
    "import pandas as pd\n",
    "import csv\n",
    "import os.path\n",
    "\n",
    "def get_data_barchart():\n",
    "    \n",
    "    l = []\n",
    "\n",
    "    url = \"https://www.barchart.com/proxies/core-api/v1/options/get?symbol=ABT&fields=strikePrice%2ClastPrice%2CpercentFromLast%2CbidPrice%2Cmidpoint%2CaskPrice%2CpriceChange%2CpercentChange%2Cvolatility%2Cvolume%2CopenInterest%2CoptionType%2CdaysToExpiration%2CexpirationDate%2CtradeTime%2CsymbolCode%2CsymbolType&groupBy=optionType&expirationDate=2020-02-28&meta=field.shortName%2Cexpirations%2Cfield.description&raw=1\"\n",
    "\n",
    "    payload = {}\n",
    "    headers = {\n",
    "      'authority': 'www.barchart.com',\n",
    "      'accept': 'application/json',\n",
    "      'sec-fetch-dest': 'empty',\n",
    "      'x-xsrf-token': 'eyJpdiI6ImptbjJPYXdXM1N0dldEV3QxalNuanc9PSIsInZhbHVlIjoibWxzQWpJZ0ZudzIxWjluZ2J6cE94RnZNUGZzRUhYSG1SK3crdStOYlNZOVlweVNNaTBkR2orYXFIODNkdmZIZCIsIm1hYyI6IjZmYTIxMWIzMjM3NGRjMTZlYzFlZGJmNmE4MDBiYzdkNWIyM2NjMDE1NGVmOWE5YWYzZGNmOWI4YzhlN2FmOGQifQ==',\n",
    "      'user-agent': 'Mozilla/5.0 (Windows NT 10.0; Win64; x64) AppleWebKit/537.36 (KHTML, like Gecko) Chrome/80.0.3987.122 Safari/537.36',\n",
    "      'dnt': '1',\n",
    "      'sec-fetch-site': 'same-origin',\n",
    "      'sec-fetch-mode': 'cors',\n",
    "      'referer': 'https://www.barchart.com/stocks/quotes/ABT/options?expiration=2020-02-28&moneyness=allRows',\n",
    "      'accept-language': 'es-ES,es;q=0.9,en;q=0.8,nl;q=0.7',\n",
    "      'cookie': '_gcl_au=1.1.1010588658.1582606331; _ga=GA1.2.270392010.1582606332; __gads=ID=72d4fe83c6f1b46e:T=1582606336:S=ALNI_MbAIR-3cW-trYQ0awJLtlLrAI4_Jg; OX_plg=pm; fitracking_2=no; Limelight_HTML_Player_UserId=8254E40B-EDB8-4FEF-BEEB-16C1F441C68A; _gid=GA1.2.1447847192.1582906872; _ccm_inf=1; __qca=P0-247333977-1582910365824; market=eyJpdiI6IkJnZVhVd3g4djgzQWt3eVJqUzNSTHc9PSIsInZhbHVlIjoiR2FjenpxRzBEb1wveDVGNjdGb1hQcnc9PSIsIm1hYyI6IjlkMzkyZGRlNWZhMzc2NWE0ZTI5YjRlOGQxODE1Y2Y3NzkwM2RjMDgxY2ZjYzc0ZTE5YWY1NjE3MzE3MGIxYWUifQ%3D%3D; IC_ViewCounter_www.barchart.com=10; _awl=2.1582911950.0.4-3befa15b-5451e6f2ba28d5b02db6c3572a2c5043-6763652d75732d6561737431-5e5951ce-0; fi_utm=direct%7Cdirect%7C%7C%7C%7C; XSRF-TOKEN=eyJpdiI6ImptbjJPYXdXM1N0dldEV3QxalNuanc9PSIsInZhbHVlIjoibWxzQWpJZ0ZudzIxWjluZ2J6cE94RnZNUGZzRUhYSG1SK3crdStOYlNZOVlweVNNaTBkR2orYXFIODNkdmZIZCIsIm1hYyI6IjZmYTIxMWIzMjM3NGRjMTZlYzFlZGJmNmE4MDBiYzdkNWIyM2NjMDE1NGVmOWE5YWYzZGNmOWI4YzhlN2FmOGQifQ%3D%3D; laravel_session=eyJpdiI6IjV0K2FXVGI0bWpNNkc1b0RcL1hcL2hFQT09IiwidmFsdWUiOiI5TldYWVdcL200SEtiUUFkb3pWU0pmd2FlelZveWFQV204TEdGY1ZXUHlENlhVVEgwVzNvbjhTa21cL3BJTDZwekUiLCJtYWMiOiJiYzMzY2U0ODUxNzcwOTYzMGM4MmQxYTA1M2M2M2I1NzhkZTAzOTk1NDlhNDgyM2I3ZjljMDhmYzE1OTA1OTFlIn0%3D'\n",
    "    }\n",
    "\n",
    "    response = requests.request(\"GET\", url, headers=headers, data = payload)\n",
    "    \n",
    "    for k,v in json.loads(response.text).items():\n",
    "        if k == 'data':\n",
    "            #print(type(v))\n",
    "            for a,c in v.items():\n",
    "                print(a)\n",
    "                for x in c:\n",
    "                    print(type(x))\n",
    "                    #print(x)\n",
    "                    del x['raw']\n",
    "                    l.append(x)\n",
    "                df = pd.DataFrame(l)\n",
    "                df.to_csv('barchart_data_stocks_quotes.csv', index=False, header=False, mode='a')\n",
    "        \n",
    "        \n",
    "#         for x in json_data:\n",
    "#             print(type(x))\n",
    "#             del x['link']\n",
    "#             del x['requestAQuoteLink']\n",
    "#             del x['makeAnEnquiryLink']\n",
    "#             del x['thumbLink']\n",
    "#             del x['recommendationTrackLink']\n",
    "#             l.append(x)\n",
    "#     print(l)\n",
    "#     df = pd.DataFrame(l)\n",
    "#     df.to_csv('nombre8.csv', index=False, header=False, mode='a')\n",
    "                    \n",
    "get_data()"
   ]
  }
 ],
 "metadata": {
  "kernelspec": {
   "display_name": "venv_hipages",
   "language": "python",
   "name": "venv_hipages"
  },
  "language_info": {
   "codemirror_mode": {
    "name": "ipython",
    "version": 3
   },
   "file_extension": ".py",
   "mimetype": "text/x-python",
   "name": "python",
   "nbconvert_exporter": "python",
   "pygments_lexer": "ipython3",
   "version": "3.7.5rc1"
  }
 },
 "nbformat": 4,
 "nbformat_minor": 2
}
