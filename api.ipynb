{
 "cells": [
  {
   "cell_type": "code",
   "execution_count": null,
   "metadata": {},
   "outputs": [],
   "source": [
    "from flask import Blueprint\n",
    "from flask_restful import Api\n",
    "#from resources.Hello import Hello\n",
    "import data_barchart\n",
    "from flask_restful import Resource\n",
    "from flask import Flask\n",
    "from flask import request\n",
    "\n",
    "\n",
    "app = Flask(__name__)\n",
    "api = Api(app)\n",
    "\n",
    "class HelloWorld(Resource):\n",
    "    def get(self):\n",
    "        return {'hello': 'world'}\n",
    "    \n",
    "class Hello_(Resource):\n",
    "    def get(self):\n",
    "        return data_barchart.Hello()\n",
    "    \n",
    "class allData_Call_And_Put_Company_(Resource):\n",
    "    def get(self):\n",
    "        data = request.get_json()\n",
    "        return str(data_barchart.allData_Call_And_Put_Company(data))\n",
    "    \n",
    "class strike_Price_Call_And_Put_Company_(Resource):\n",
    "    def get(self):\n",
    "        data = request.get_json()\n",
    "        return str(data_barchart.strike_Price_Call_And_Put_Company(data))\n",
    "    \n",
    "class IV_Call_And_Put_Company_(Resource):\n",
    "    def get(self):\n",
    "        data = request.get_json()\n",
    "        return str(data_barchart.IV_Call_And_Put_Company(data))\n",
    "    \n",
    "class strikePrice_350_Call_And_Put_Company_(Resource):\n",
    "    def get(self):\n",
    "        data = request.get_json()\n",
    "        return str(data_barchart.strikePrice_350_Call_And_Put_Company(data))\n",
    "\n",
    "# class Hello(Resource):\n",
    "#     def get(self):\n",
    "#         return {\"message\": \"Hello, World!\"}\n",
    "\n",
    "# Route\n",
    "api.add_resource(HelloWorld, '/test')\n",
    "api.add_resource(Hello_, '/Hello')\n",
    "api.add_resource(allData_Call_And_Put_Company_, '/allData_Call_And_Put_Company')\n",
    "api.add_resource(strike_Price_Call_And_Put_Company_, '/strike_Price_Call_And_Put_Company')\n",
    "api.add_resource(IV_Call_And_Put_Company_, '/IV_Call_And_Put_Company')\n",
    "api.add_resource(strikePrice_350_Call_And_Put_Company_, '/strikePrice_350_Call_And_Put_Company')\n",
    "\n",
    "#if __name__ == '__main__':\n",
    "app.run(debug=True)"
   ]
  },
  {
   "cell_type": "code",
   "execution_count": null,
   "metadata": {},
   "outputs": [],
   "source": []
  }
 ],
 "metadata": {
  "kernelspec": {
   "display_name": "Python 3",
   "language": "python",
   "name": "python3"
  },
  "language_info": {
   "codemirror_mode": {
    "name": "ipython",
    "version": 3
   },
   "file_extension": ".py",
   "mimetype": "text/x-python",
   "name": "python",
   "nbconvert_exporter": "python",
   "pygments_lexer": "ipython3",
   "version": "3.7.5rc1"
  }
 },
 "nbformat": 4,
 "nbformat_minor": 4
}
